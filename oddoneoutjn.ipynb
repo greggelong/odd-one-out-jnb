{
 "cells": [
  {
   "cell_type": "markdown",
   "metadata": {},
   "source": [
    "# This is a Jupyter Notebook test\n",
    "I will be be using the Odd one out class and see if I:\n",
    " - can make instantiations of the objects\n",
    " - run code\n",
    " - explain with markdown"
   ]
  },
  {
   "cell_type": "markdown",
   "metadata": {},
   "source": [
    "#### Here is the class Oword\n",
    "The class takes two parameters a **name** which is a string, and a **list**, which is a list of strings.\n",
    "\n",
    "The class defines an object that has has **data** (variables) and **methods** (functions).\n",
    "\n",
    "The **data** is the name, list of attributes, .dc a difference count, and a list that keeps track of differences \n",
    "(the last two variables will help decide if it is an odd one out).\n",
    "\n",
    "The **method** diff_from() has one parameter which can be the another object of this class"
   ]
  },
  {
   "cell_type": "code",
   "execution_count": 13,
   "metadata": {},
   "outputs": [],
   "source": [
    "class Oword:\n",
    "    \n",
    "    def __init__(self,name,atlist):\n",
    "        self.name=name\n",
    "        self.atlist= atlist\n",
    "        self.dc = 0\n",
    "        self.diflist = []\n",
    "        \n",
    "    def diff_from(self,otherWord):\n",
    "        for item in self.atlist:\n",
    "            if item not in otherWord.atlist:\n",
    "                print('a {} is different from {} because it is {}'.format(self.name, otherWord.name, item)) \n",
    "                self.dc+=1\n",
    "                self.diflist.append(item)\n",
    "        for oitem in otherWord.atlist: # catches absence of attribute, meaning it check for symmetric difference\n",
    "            if oitem not in self.atlist:\n",
    "                print('a {} is different from {} because it is not {}'.format(self.name, otherWord.name, oitem))\n",
    "                self.dc+=1\n",
    "                self.diflist.append('not '+oitem)"
   ]
  },
  {
   "cell_type": "markdown",
   "metadata": {},
   "source": [
    "### let's instantiate an object\n",
    "The dog will be instanitiated as a Oword object with the arguments 'dog' and a list ['small','a mamal']"
   ]
  },
  {
   "cell_type": "code",
   "execution_count": 14,
   "metadata": {},
   "outputs": [],
   "source": [
    "dog = Oword('dog',['small','a mammal'])   # name and  and list with adjs or article + noun"
   ]
  },
  {
   "cell_type": "markdown",
   "metadata": {},
   "source": [
    " We can print out the objects .name value"
   ]
  },
  {
   "cell_type": "code",
   "execution_count": 15,
   "metadata": {},
   "outputs": [
    {
     "name": "stdout",
     "output_type": "stream",
     "text": [
      "dog\n"
     ]
    }
   ],
   "source": [
    "print(dog.name)"
   ]
  },
  {
   "cell_type": "markdown",
   "metadata": {},
   "source": [
    "we can print out the object's .atlist value, i.e. (list of attributes)"
   ]
  },
  {
   "cell_type": "code",
   "execution_count": 16,
   "metadata": {},
   "outputs": [],
   "source": [
    "elephant = Oword('elephant',['a mammal','big'])"
   ]
  },
  {
   "cell_type": "code",
   "execution_count": 17,
   "metadata": {},
   "outputs": [
    {
     "name": "stdout",
     "output_type": "stream",
     "text": [
      "['a mammal', 'big']\n"
     ]
    }
   ],
   "source": [
    "print(elephant.atlist)"
   ]
  },
  {
   "cell_type": "markdown",
   "metadata": {},
   "source": [
    "We can run the method .diff_from() and see the results but it will sully the kernel"
   ]
  },
  {
   "cell_type": "code",
   "execution_count": 18,
   "metadata": {},
   "outputs": [],
   "source": [
    "##elephant.diff_from(dog)\n",
    "##dog.diff_from(elephant)\n",
    "\n",
    "## a elephant is different from dog because it is big\n",
    "## a elephant is different from dog because it is not small\n",
    "## a dog is different from elephant because it is small\n",
    "## a dog is different from elephant because it is not big"
   ]
  },
  {
   "cell_type": "markdown",
   "metadata": {},
   "source": [
    "### Make two more objects\n",
    "#### one for cat and one for turtle with name and list of attributes\n",
    "a cat is a mammal but a turtle isn't\n",
    "The turtles .atlist is just one characteristic 'small' "
   ]
  },
  {
   "cell_type": "code",
   "execution_count": 19,
   "metadata": {},
   "outputs": [],
   "source": [
    "cat = Oword('cat',['a mammal','small'])\n",
    "turtle = Oword('turtle',['small'])"
   ]
  },
  {
   "cell_type": "markdown",
   "metadata": {},
   "source": [
    "Now we have four objects, cat, dog, turtle and elephant\n",
    "lets put them into a list, so we can work with them together"
   ]
  },
  {
   "cell_type": "code",
   "execution_count": 20,
   "metadata": {},
   "outputs": [],
   "source": [
    "oddlist= [dog,cat,turtle,elephant]"
   ]
  },
  {
   "cell_type": "markdown",
   "metadata": {},
   "source": [
    "Now let's use a nested list to get all of the differences "
   ]
  },
  {
   "cell_type": "code",
   "execution_count": 21,
   "metadata": {},
   "outputs": [
    {
     "name": "stdout",
     "output_type": "stream",
     "text": [
      "a dog is different from turtle because it is a mammal\n",
      "a dog is different from elephant because it is small\n",
      "a dog is different from elephant because it is not big\n",
      "a cat is different from turtle because it is a mammal\n",
      "a cat is different from elephant because it is small\n",
      "a cat is different from elephant because it is not big\n",
      "a turtle is different from dog because it is not a mammal\n",
      "a turtle is different from cat because it is not a mammal\n",
      "a turtle is different from elephant because it is small\n",
      "a turtle is different from elephant because it is not a mammal\n",
      "a turtle is different from elephant because it is not big\n",
      "a elephant is different from dog because it is big\n",
      "a elephant is different from dog because it is not small\n",
      "a elephant is different from cat because it is big\n",
      "a elephant is different from cat because it is not small\n",
      "a elephant is different from turtle because it is a mammal\n",
      "a elephant is different from turtle because it is big\n",
      "a elephant is different from turtle because it is not small\n"
     ]
    }
   ],
   "source": [
    "for animal in oddlist:\n",
    "    for other_animal in oddlist:\n",
    "        animal.diff_from(other_animal)"
   ]
  },
  {
   "cell_type": "markdown",
   "metadata": {},
   "source": [
    "So now we have all the differences.\n",
    "\n",
    "We can see that some are more different than others.\n",
    "\n",
    "We have collected and stored that information in the object variables .dc and .difflist\n",
    "\n",
    "Let's take a look using list comprhension"
   ]
  },
  {
   "cell_type": "code",
   "execution_count": 22,
   "metadata": {},
   "outputs": [
    {
     "name": "stdout",
     "output_type": "stream",
     "text": [
      "[(3, 'dog'), (3, 'cat'), (5, 'turtle'), (7, 'elephant')]\n",
      "[3, 3, 5, 7]\n"
     ]
    }
   ],
   "source": [
    "difcountlist =[(item.dc , item.name) for item in oddlist]  #list of tuples\n",
    "difcountlist2 =[item.dc for item in oddlist]   #list of ints\n",
    "print(difcountlist)\n",
    "print(difcountlist2)"
   ]
  },
  {
   "cell_type": "markdown",
   "metadata": {},
   "source": [
    "We can use this information to check and see if there is an odd one out.\n",
    "\n",
    "Let's say that if max of that list is greater than the min there must be some object\n",
    "that is more different that the others.  \n",
    "Thus there is an odd one out!"
   ]
  },
  {
   "cell_type": "code",
   "execution_count": 23,
   "metadata": {},
   "outputs": [
    {
     "name": "stdout",
     "output_type": "stream",
     "text": [
      "there is an odd one out\n"
     ]
    }
   ],
   "source": [
    "if max(difcountlist2) > min(difcountlist2):     ## if dif cout list is greater than min of that list you can call it odd one out\n",
    "    print(\"there is an odd one out\")"
   ]
  },
  {
   "cell_type": "markdown",
   "metadata": {},
   "source": [
    "We can check wich one can be an odd one out by checking if it the .dc (difference count of the object) is greater than the minimum of difcountlist 2 that object is an odd one out."
   ]
  },
  {
   "cell_type": "code",
   "execution_count": 24,
   "metadata": {},
   "outputs": [
    {
     "name": "stdout",
     "output_type": "stream",
     "text": [
      "turtle is an odd one out\n",
      "elephant is an odd one out\n"
     ]
    }
   ],
   "source": [
    "for item in oddlist:\n",
    "    if item.dc > min(difcountlist2):\n",
    "        print(item.name+' is an odd one out')"
   ]
  },
  {
   "cell_type": "markdown",
   "metadata": {},
   "source": [
    "Here we can see the .dc difference count weights can be used to have the code identitfy if there is an odd one out and which ones are the odd one out."
   ]
  }
 ],
 "metadata": {
  "kernelspec": {
   "display_name": "Python 3",
   "language": "python",
   "name": "python3"
  },
  "language_info": {
   "codemirror_mode": {
    "name": "ipython",
    "version": 3
   },
   "file_extension": ".py",
   "mimetype": "text/x-python",
   "name": "python",
   "nbconvert_exporter": "python",
   "pygments_lexer": "ipython3",
   "version": "3.7.3"
  }
 },
 "nbformat": 4,
 "nbformat_minor": 2
}
